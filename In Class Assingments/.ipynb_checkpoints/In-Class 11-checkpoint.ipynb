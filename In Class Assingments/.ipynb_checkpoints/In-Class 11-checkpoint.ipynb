{
 "cells": [
  {
   "cell_type": "code",
   "execution_count": 1,
   "metadata": {},
   "outputs": [
    {
     "data": {
      "text/html": [
       "<div>\n",
       "<style scoped>\n",
       "    .dataframe tbody tr th:only-of-type {\n",
       "        vertical-align: middle;\n",
       "    }\n",
       "\n",
       "    .dataframe tbody tr th {\n",
       "        vertical-align: top;\n",
       "    }\n",
       "\n",
       "    .dataframe thead th {\n",
       "        text-align: right;\n",
       "    }\n",
       "</style>\n",
       "<table border=\"1\" class=\"dataframe\">\n",
       "  <thead>\n",
       "    <tr style=\"text-align: right;\">\n",
       "      <th></th>\n",
       "      <th>year</th>\n",
       "      <th>Team</th>\n",
       "      <th>Wins</th>\n",
       "      <th>Losses</th>\n",
       "      <th>Runs Scored</th>\n",
       "      <th>Runs Allowed</th>\n",
       "      <th>Scoring ratio</th>\n",
       "      <th>Predicted winning %</th>\n",
       "      <th>Actual winning %</th>\n",
       "      <th>Absolute error</th>\n",
       "    </tr>\n",
       "  </thead>\n",
       "  <tbody>\n",
       "    <tr>\n",
       "      <th>0</th>\n",
       "      <td>2006</td>\n",
       "      <td>Diamondbacks</td>\n",
       "      <td>76</td>\n",
       "      <td>86</td>\n",
       "      <td>773</td>\n",
       "      <td>788</td>\n",
       "      <td>0.980964</td>\n",
       "      <td>0.490392</td>\n",
       "      <td>0.469136</td>\n",
       "      <td>0.021256</td>\n",
       "    </tr>\n",
       "    <tr>\n",
       "      <th>1</th>\n",
       "      <td>2006</td>\n",
       "      <td>Braves</td>\n",
       "      <td>79</td>\n",
       "      <td>83</td>\n",
       "      <td>849</td>\n",
       "      <td>805</td>\n",
       "      <td>1.054658</td>\n",
       "      <td>0.526583</td>\n",
       "      <td>0.487654</td>\n",
       "      <td>0.038929</td>\n",
       "    </tr>\n",
       "    <tr>\n",
       "      <th>2</th>\n",
       "      <td>2006</td>\n",
       "      <td>Orioles</td>\n",
       "      <td>70</td>\n",
       "      <td>92</td>\n",
       "      <td>768</td>\n",
       "      <td>899</td>\n",
       "      <td>0.854283</td>\n",
       "      <td>0.421898</td>\n",
       "      <td>0.432099</td>\n",
       "      <td>0.010201</td>\n",
       "    </tr>\n",
       "    <tr>\n",
       "      <th>3</th>\n",
       "      <td>2006</td>\n",
       "      <td>Red Sox</td>\n",
       "      <td>86</td>\n",
       "      <td>76</td>\n",
       "      <td>820</td>\n",
       "      <td>825</td>\n",
       "      <td>0.993939</td>\n",
       "      <td>0.496961</td>\n",
       "      <td>0.530864</td>\n",
       "      <td>0.033904</td>\n",
       "    </tr>\n",
       "    <tr>\n",
       "      <th>4</th>\n",
       "      <td>2006</td>\n",
       "      <td>White Sox</td>\n",
       "      <td>90</td>\n",
       "      <td>72</td>\n",
       "      <td>868</td>\n",
       "      <td>794</td>\n",
       "      <td>1.093199</td>\n",
       "      <td>0.544437</td>\n",
       "      <td>0.555556</td>\n",
       "      <td>0.011119</td>\n",
       "    </tr>\n",
       "  </tbody>\n",
       "</table>\n",
       "</div>"
      ],
      "text/plain": [
       "   year          Team  Wins  Losses  Runs Scored  Runs Allowed  Scoring ratio  \\\n",
       "0  2006  Diamondbacks    76      86          773           788       0.980964   \n",
       "1  2006        Braves    79      83          849           805       1.054658   \n",
       "2  2006       Orioles    70      92          768           899       0.854283   \n",
       "3  2006       Red Sox    86      76          820           825       0.993939   \n",
       "4  2006     White Sox    90      72          868           794       1.093199   \n",
       "\n",
       "   Predicted winning %  Actual winning %  Absolute error  \n",
       "0             0.490392          0.469136        0.021256  \n",
       "1             0.526583          0.487654        0.038929  \n",
       "2             0.421898          0.432099        0.010201  \n",
       "3             0.496961          0.530864        0.033904  \n",
       "4             0.544437          0.555556        0.011119  "
      ]
     },
     "execution_count": 1,
     "metadata": {},
     "output_type": "execute_result"
    }
   ],
   "source": [
    "import pandas as pd\n",
    "import numpy as np\n",
    "\n",
    "# Reading csv\n",
    "baseball = pd.read_csv('standings.csv')\n",
    "baseball.head()"
   ]
  },
  {
   "cell_type": "code",
   "execution_count": 4,
   "metadata": {},
   "outputs": [
    {
     "data": {
      "image/png": "[encoded data removed]",
      "text/plain": [
       "<Figure size 432x288 with 1 Axes>"
      ]
     },
     "metadata": {
      "needs_background": "light"
     },
     "output_type": "display_data"
    }
   ],
   "source": [
    "import matplotlib.pyplot as plt\n",
    "\n",
    "# Creating a scatter plot \n",
    "\n",
    "plt.plot('Runs Scored', 'Wins', 'o', data = baseball)\n",
    "plt.xlabel('Runs Scored')\n",
    "plt.ylabel('Wins')\n",
    "plt.grid()\n",
    "plt.show()"
   ]
  },
  {
   "cell_type": "markdown",
   "metadata": {},
   "source": [
    "#### From the above plot, we see there's a positive linear relationship between runs scored and wins."
   ]
  },
  {
   "cell_type": "code",
   "execution_count": 5,
   "metadata": {},
   "outputs": [
    {
     "data": {
      "text/html": [
       "<div>\n",
       "<style scoped>\n",
       "    .dataframe tbody tr th:only-of-type {\n",
       "        vertical-align: middle;\n",
       "    }\n",
       "\n",
       "    .dataframe tbody tr th {\n",
       "        vertical-align: top;\n",
       "    }\n",
       "\n",
       "    .dataframe thead th {\n",
       "        text-align: right;\n",
       "    }\n",
       "</style>\n",
       "<table border=\"1\" class=\"dataframe\">\n",
       "  <thead>\n",
       "    <tr style=\"text-align: right;\">\n",
       "      <th></th>\n",
       "      <th>Runs Scored</th>\n",
       "      <th>Wins</th>\n",
       "    </tr>\n",
       "  </thead>\n",
       "  <tbody>\n",
       "    <tr>\n",
       "      <th>Runs Scored</th>\n",
       "      <td>1.000000</td>\n",
       "      <td>0.655213</td>\n",
       "    </tr>\n",
       "    <tr>\n",
       "      <th>Wins</th>\n",
       "      <td>0.655213</td>\n",
       "      <td>1.000000</td>\n",
       "    </tr>\n",
       "  </tbody>\n",
       "</table>\n",
       "</div>"
      ],
      "text/plain": [
       "             Runs Scored      Wins\n",
       "Runs Scored     1.000000  0.655213\n",
       "Wins            0.655213  1.000000"
      ]
     },
     "execution_count": 5,
     "metadata": {},
     "output_type": "execute_result"
    }
   ],
   "source": [
    "# Computing the correlation between runs scored and wins\n",
    "baseball[['Runs Scored', 'Wins']].corr()"
   ]
  },
  {
   "cell_type": "code",
   "execution_count": 9,
   "metadata": {},
   "outputs": [
    {
     "data": {
      "text/plain": [
       "0.0552570560742183"
      ]
     },
     "execution_count": 9,
     "metadata": {},
     "output_type": "execute_result"
    }
   ],
   "source": [
    "r = 0.655\n",
    "n = baseball.shape[0]\n",
    "ME = 2*np.sqrt((1-r**2)/n)\n",
    "ME"
   ]
  },
  {
   "cell_type": "markdown",
   "metadata": {},
   "source": [
    "r +- ME\n",
    "\n",
    "0.655 +- 0.055\n",
    "\n",
    "(0.6, 0.71) it doesn’t include 0, so r is significant."
   ]
  },
  {
   "cell_type": "markdown",
   "metadata": {},
   "source": [
    "r > ME, therefore, r is significant."
   ]
  }
 ],
 "metadata": {
  "kernelspec": {
   "display_name": "Python 3",
   "language": "python",
   "name": "python3"
  },
  "language_info": {
   "codemirror_mode": {
    "name": "ipython",
    "version": 3
   },
   "file_extension": ".py",
   "mimetype": "text/x-python",
   "name": "python",
   "nbconvert_exporter": "python",
   "pygments_lexer": "ipython3",
   "version": "3.8.3"
  }
 },
 "nbformat": 4,
 "nbformat_minor": 4
}
