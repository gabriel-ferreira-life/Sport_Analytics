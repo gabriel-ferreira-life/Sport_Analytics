{
 "cells": [
  {
   "cell_type": "markdown",
   "metadata": {},
   "source": [
    "## Question 1\n",
    "#### A sample space consists of five events: E1, E2, E3, E4 and E5. If P(E1) = 3P(E2) = 0.3. Find the probability of the remaining events if you know that the remaining events are equally probable (i.e., the remaining events have the same probability of occurrence)."
   ]
  },
  {
   "cell_type": "markdown",
   "metadata": {},
   "source": [
    "P(E1) = 3P(E2) = 0.3\\\n",
    "      = P = 0.3/3\\\n",
    "      = 0.1\\\n",
    "      \\\n",
    "P(E1) = 0.1\\\n",
    "P(E2) = 0.3\\\n",
    "P(E3) = X\\\n",
    "P(E4) = X\\\n",
    "P(E5) = X\n",
    "\n",
    "0.1 + 0.3 + X + X + X = 1\\\n",
    "0.4 + 3X = 1\\\n",
    "X = 0.6/3\\\n",
    "X = 0.2\\\n",
    "\\\n",
    "P(E1) = 0.1\\\n",
    "P(E2) = 0.3\\\n",
    "P(E3) = 0.2\\\n",
    "P(E4) = 0.2\\\n",
    "P(E5) = 0.2"
   ]
  },
  {
   "cell_type": "markdown",
   "metadata": {},
   "source": [
    "## Question 4\n",
    "#### Suppose two balanced coins (i.e., P(head) = P(tail) = 0.5) are tossed and the upper faces are observed."
   ]
  },
  {
   "cell_type": "markdown",
   "metadata": {},
   "source": [
    "#### (a) List the sample points for this experiment\n",
    "\n",
    "Sample points: {HT, TH, HH, TT}"
   ]
  },
  {
   "cell_type": "markdown",
   "metadata": {},
   "source": [
    "#### (b) Assign a reasonable probability to each sample point. (Are the sample points equally likely?)\n",
    "P(HT) = P(H)(25%) + P(T)(25%) = 50%\\\n",
    "P(HT) = P(T) + P(H) = 50%\\\n",
    "P(HT) = P(H) + P(H) = 50%\\\n",
    "P(HT) = P(T) + P(T) = 50%"
   ]
  },
  {
   "cell_type": "markdown",
   "metadata": {},
   "source": [
    "#### (c) Let A denote the event that exactly one head is observed and B the event that at least one head is observed. List the sample points in both A and B.\n",
    "\n",
    "A(HT, TH)\\\n",
    "B(HT, TH, HH)"
   ]
  },
  {
   "cell_type": "markdown",
   "metadata": {},
   "source": [
    "#### (d) From your answers to part (c), find P(A), P(B), P(A ∩ B), and P(A ∪ B).\n",
    "\n",
    "P(A) = P(HT)(25%) + P(TH)(25%) = 50%\\\n",
    "P(B) = P(HT)(25%) + P(TH)(25%) + P(HH)(25%) = 75%\\\n",
    "P(A ∩ B) = P(HT)(25%) + P(TH)(25%) = 50%  (Sample points appears in both)\\\n",
    "P(A ∪ B) = P(A) + P(B) - P(A ∩ B)\\\n",
    "         = 50% + 75% - 50%\\\n",
    "         = 75%"
   ]
  },
  {
   "cell_type": "code",
   "execution_count": null,
   "metadata": {},
   "outputs": [],
   "source": []
  }
 ],
 "metadata": {
  "kernelspec": {
   "display_name": "Python 3",
   "language": "python",
   "name": "python3"
  },
  "language_info": {
   "codemirror_mode": {
    "name": "ipython",
    "version": 3
   },
   "file_extension": ".py",
   "mimetype": "text/x-python",
   "name": "python",
   "nbconvert_exporter": "python",
   "pygments_lexer": "ipython3",
   "version": "3.8.3"
  }
 },
 "nbformat": 4,
 "nbformat_minor": 4
}
