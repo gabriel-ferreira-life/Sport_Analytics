{
 "cells": [
  {
   "cell_type": "markdown",
   "metadata": {},
   "source": [
    "## Exercise 1"
   ]
  },
  {
   "cell_type": "markdown",
   "metadata": {},
   "source": [
    "#### After scoring a touchdown, a football team may elect to attempt a two-point conversion, by running or passing the ball into the end zone. If successful, the team score two points. For instance football team, the probability that this play is successful is 0.40. Let X = 1 be a successful, X = 0 if not. Find the mean and variance of X."
   ]
  },
  {
   "cell_type": "code",
   "execution_count": null,
   "metadata": {},
   "outputs": [],
   "source": []
  },
  {
   "cell_type": "markdown",
   "metadata": {},
   "source": [
    "## Exercise 2"
   ]
  },
  {
   "cell_type": "markdown",
   "metadata": {},
   "source": [
    "#### True or False: If A and B are mutually exclusive\n",
    "#### (a) P(A ∪ B) = 0\n",
    "#### (b) P(A ∩ B) = 0\n",
    "#### (c) P(A ∪ B) = P(A ∩ B)\n",
    "#### (d) P(A ∪ B) = P(A) + P(B)"
   ]
  },
  {
   "cell_type": "code",
   "execution_count": null,
   "metadata": {},
   "outputs": [],
   "source": []
  },
  {
   "cell_type": "markdown",
   "metadata": {},
   "source": [
    "## Exercise 3"
   ]
  },
  {
   "cell_type": "markdown",
   "metadata": {},
   "source": [
    "#### Let X ∼ Bin(5, 0.3). Find\n",
    "#### (a) P(X ≥ 2)\n",
    "#### (b) P(1 ≤ X ≤ 3)\n",
    "#### (c) P(X = 0)\n",
    "#### (d) E(X)\n",
    "#### (e) V ar(X)"
   ]
  },
  {
   "cell_type": "code",
   "execution_count": null,
   "metadata": {},
   "outputs": [],
   "source": []
  },
  {
   "cell_type": "markdown",
   "metadata": {},
   "source": [
    "## Exercise 5"
   ]
  },
  {
   "cell_type": "markdown",
   "metadata": {},
   "source": [
    "#### Consider the Curry 2016 2017.csv and Thompson 2016 2017.csv data-files. These two data files contains information related to Stephen Curry and Klay Thompson statistics from the 2016-2017 NBA season. In Python, answer the following:\n",
    "#### (a) Using the pandas library, read both csv files into Python and create two data￾frames: curry and thompson, respectively.\n",
    "#### (b) Using the results from Section 4.3, report the average points per game and their margin of errors of Curry and Thompson for 2016-2017 NBA season.\n",
    "#### (c) Estimate the margin of error of the average points per game of Curry and Thompson via simulation. Use 1000 simulations. Are these results similar to the results from part (b)?\n",
    "#### (d) Estimate the margin of error of the difference of average points per game of Curry and Thompson via simulation. Use 1000 simulations. Is the different in averages points per game statistical significant?"
   ]
  },
  {
   "cell_type": "code",
   "execution_count": 10,
   "metadata": {},
   "outputs": [],
   "source": [
    "# (a)\n",
    "import pandas as pd\n",
    "import numpy as np\n",
    "\n",
    "curry = pd.read_csv('Curry_2016_2017.csv')\n",
    "thompson = pd.read_csv('Thompson_2016_2017.csv')"
   ]
  },
  {
   "cell_type": "code",
   "execution_count": 4,
   "metadata": {},
   "outputs": [
    {
     "data": {
      "text/plain": [
       "Index(['Rk', 'G', 'Date', 'Age', 'Tm', 'Unnamed: 5', 'Opp', 'Unnamed: 7', 'GS',\n",
       "       'MP', 'FG', 'FGA', 'FG%', '3P', '3PA', '3P%', 'FT', 'FTA', 'FT%', 'ORB',\n",
       "       'DRB', 'TRB', 'AST', 'STL', 'BLK', 'TOV', 'PF', 'PTS', 'GmSc', '+/-'],\n",
       "      dtype='object')"
      ]
     },
     "execution_count": 4,
     "metadata": {},
     "output_type": "execute_result"
    }
   ],
   "source": [
    "curry.columns"
   ]
  },
  {
   "cell_type": "code",
   "execution_count": 3,
   "metadata": {},
   "outputs": [
    {
     "data": {
      "text/html": [
       "<div>\n",
       "<style scoped>\n",
       "    .dataframe tbody tr th:only-of-type {\n",
       "        vertical-align: middle;\n",
       "    }\n",
       "\n",
       "    .dataframe tbody tr th {\n",
       "        vertical-align: top;\n",
       "    }\n",
       "\n",
       "    .dataframe thead th {\n",
       "        text-align: right;\n",
       "    }\n",
       "</style>\n",
       "<table border=\"1\" class=\"dataframe\">\n",
       "  <thead>\n",
       "    <tr style=\"text-align: right;\">\n",
       "      <th></th>\n",
       "      <th>Rk</th>\n",
       "      <th>G</th>\n",
       "      <th>Date</th>\n",
       "      <th>Age</th>\n",
       "      <th>Tm</th>\n",
       "      <th>Unnamed: 5</th>\n",
       "      <th>Opp</th>\n",
       "      <th>Unnamed: 7</th>\n",
       "      <th>GS</th>\n",
       "      <th>MP</th>\n",
       "      <th>...</th>\n",
       "      <th>DRB</th>\n",
       "      <th>TRB</th>\n",
       "      <th>AST</th>\n",
       "      <th>STL</th>\n",
       "      <th>BLK</th>\n",
       "      <th>TOV</th>\n",
       "      <th>PF</th>\n",
       "      <th>PTS</th>\n",
       "      <th>GmSc</th>\n",
       "      <th>+/-</th>\n",
       "    </tr>\n",
       "  </thead>\n",
       "  <tbody>\n",
       "    <tr>\n",
       "      <th>0</th>\n",
       "      <td>1</td>\n",
       "      <td>1</td>\n",
       "      <td>2016-10-25</td>\n",
       "      <td>26-260</td>\n",
       "      <td>GSW</td>\n",
       "      <td>NaN</td>\n",
       "      <td>SAS</td>\n",
       "      <td>L (-29)</td>\n",
       "      <td>1</td>\n",
       "      <td>33:21</td>\n",
       "      <td>...</td>\n",
       "      <td>1</td>\n",
       "      <td>1</td>\n",
       "      <td>2</td>\n",
       "      <td>0</td>\n",
       "      <td>0</td>\n",
       "      <td>1</td>\n",
       "      <td>4</td>\n",
       "      <td>11</td>\n",
       "      <td>3.0</td>\n",
       "      <td>-6</td>\n",
       "    </tr>\n",
       "  </tbody>\n",
       "</table>\n",
       "<p>1 rows × 30 columns</p>\n",
       "</div>"
      ],
      "text/plain": [
       "   Rk  G        Date     Age   Tm Unnamed: 5  Opp Unnamed: 7  GS     MP  ...  \\\n",
       "0   1  1  2016-10-25  26-260  GSW        NaN  SAS    L (-29)   1  33:21  ...   \n",
       "\n",
       "   DRB  TRB  AST  STL  BLK  TOV  PF  PTS  GmSc  +/-  \n",
       "0    1    1    2    0    0    1   4   11   3.0   -6  \n",
       "\n",
       "[1 rows x 30 columns]"
      ]
     },
     "execution_count": 3,
     "metadata": {},
     "output_type": "execute_result"
    }
   ],
   "source": [
    "thompson.head(1)"
   ]
  },
  {
   "cell_type": "code",
   "execution_count": 6,
   "metadata": {},
   "outputs": [
    {
     "data": {
      "text/plain": [
       "25.303797468354432"
      ]
     },
     "execution_count": 6,
     "metadata": {},
     "output_type": "execute_result"
    }
   ],
   "source": [
    "# (b)\n",
    "# Curry average points\n",
    "curry['PTS'].mean()"
   ]
  },
  {
   "cell_type": "code",
   "execution_count": 11,
   "metadata": {},
   "outputs": [
    {
     "data": {
      "text/plain": [
       "1.7315276954705145"
      ]
     },
     "execution_count": 11,
     "metadata": {},
     "output_type": "execute_result"
    }
   ],
   "source": [
    "# Curry margin of error\n",
    "2*curry['PTS'].std()/np.sqrt(curry.shape[0])"
   ]
  },
  {
   "cell_type": "code",
   "execution_count": 12,
   "metadata": {},
   "outputs": [
    {
     "data": {
      "text/plain": [
       "22.333333333333332"
      ]
     },
     "execution_count": 12,
     "metadata": {},
     "output_type": "execute_result"
    }
   ],
   "source": [
    "# Thompson average points\n",
    "thompson['PTS'].mean()"
   ]
  },
  {
   "cell_type": "code",
   "execution_count": 14,
   "metadata": {},
   "outputs": [
    {
     "data": {
      "text/plain": [
       "1.807103556972667"
      ]
     },
     "execution_count": 14,
     "metadata": {},
     "output_type": "execute_result"
    }
   ],
   "source": [
    "# Thompson margin of error\n",
    "2*thompson['PTS'].std()/np.sqrt(thompson.shape[0])"
   ]
  },
  {
   "cell_type": "code",
   "execution_count": 48,
   "metadata": {},
   "outputs": [],
   "source": [
    "# (c)\n",
    "# Estimating the margin error \n",
    "from sklearn.utils import resample\n",
    "\n",
    "curry_mean_res = list()\n",
    "thompson_mean_res = list()\n",
    "\n",
    "for i in range(0,1000):\n",
    "    \n",
    "    # Simulating the data\n",
    "    curry_sim = resample(curry['PTS'], replace = True)\n",
    "    thompson_sim = resample(thompson['PTS'], replace = True)\n",
    "    \n",
    "    # Calculating the mean\n",
    "    curry_mean = np.mean(curry_sim)\n",
    "    thompson_mean = np.mean(thompson_sim)\n",
    "    \n",
    "    # Computing the mean\n",
    "    curry_mean_res.append(curry_mean)\n",
    "    thompson_mean_res.append(thompson_mean)"
   ]
  },
  {
   "cell_type": "code",
   "execution_count": 80,
   "metadata": {},
   "outputs": [
    {
     "data": {
      "text/plain": [
       "25.2843417721519"
      ]
     },
     "execution_count": 80,
     "metadata": {},
     "output_type": "execute_result"
    }
   ],
   "source": [
    "# Points average of simulated data for Curry \n",
    "np.mean(curry_mean_res)"
   ]
  },
  {
   "cell_type": "code",
   "execution_count": 81,
   "metadata": {},
   "outputs": [
    {
     "data": {
      "text/plain": [
       "1.6948667635833066"
      ]
     },
     "execution_count": 81,
     "metadata": {},
     "output_type": "execute_result"
    }
   ],
   "source": [
    "# Calculating the Margin Error of the Curry's results\n",
    "2*np.std(curry_mean_res, ddof = 1)"
   ]
  },
  {
   "cell_type": "markdown",
   "metadata": {},
   "source": [
    "25.28 +- 1.69 = (23.59, 26.97)"
   ]
  },
  {
   "cell_type": "code",
   "execution_count": 82,
   "metadata": {},
   "outputs": [
    {
     "data": {
      "text/plain": [
       "22.2750641025641"
      ]
     },
     "execution_count": 82,
     "metadata": {},
     "output_type": "execute_result"
    }
   ],
   "source": [
    "# Points average of simulated data of Thompson \n",
    "np.mean(thompson_mean_res)"
   ]
  },
  {
   "cell_type": "code",
   "execution_count": 83,
   "metadata": {},
   "outputs": [
    {
     "data": {
      "text/plain": [
       "1.774522650391127"
      ]
     },
     "execution_count": 83,
     "metadata": {},
     "output_type": "execute_result"
    }
   ],
   "source": [
    "# Calculating the Margin Error of the Thompson's results\n",
    "2*np.std(thompson_mean_res, ddof = 1)"
   ]
  },
  {
   "cell_type": "markdown",
   "metadata": {},
   "source": [
    "22.27 +- 1.77 = (20.5, 24.04)"
   ]
  },
  {
   "cell_type": "markdown",
   "metadata": {},
   "source": [
    "#### The results seem to be similar from part (b)"
   ]
  },
  {
   "cell_type": "code",
   "execution_count": 45,
   "metadata": {},
   "outputs": [],
   "source": [
    "# (d)\n",
    "# Defining a list to store results\n",
    "mean_diff = list()\n",
    "\n",
    "for i in range(0,1000):\n",
    "    \n",
    "    #Simulating the data\n",
    "    curry_sim = resample(curry['PTS'], replace = True)\n",
    "    thompson_sim = resample(thompson['PTS'], replace = True)\n",
    "    \n",
    "    # Calculating the mean\n",
    "    curry_mean = np.mean(curry_sim)\n",
    "    thompson_mean = np.mean(thompson_sim)\n",
    "    \n",
    "    # Computing the difference in marging error of average points\n",
    "    diff = curry_mean - thompson_mean\n",
    "    mean_diff.append(diff)"
   ]
  },
  {
   "cell_type": "code",
   "execution_count": 88,
   "metadata": {},
   "outputs": [
    {
     "data": {
      "text/plain": [
       "-0.08007394796318557"
      ]
     },
     "execution_count": 88,
     "metadata": {},
     "output_type": "execute_result"
    }
   ],
   "source": [
    "# Computing average difference of average points\n",
    "np.mean(ME_diff)"
   ]
  },
  {
   "cell_type": "markdown",
   "metadata": {},
   "source": [
    "#### It is not statistical significant because in statistics, when the first number is zero, it is considered not statistically significant"
   ]
  },
  {
   "cell_type": "code",
   "execution_count": 89,
   "metadata": {},
   "outputs": [
    {
     "data": {
      "text/plain": [
       "0.6140250331603221"
      ]
     },
     "execution_count": 89,
     "metadata": {},
     "output_type": "execute_result"
    }
   ],
   "source": [
    "# Computing the margin error of the simulated results\n",
    "2*np.std(ME_diff, ddof = 1)"
   ]
  },
  {
   "cell_type": "code",
   "execution_count": null,
   "metadata": {},
   "outputs": [],
   "source": [
    "-0.08 +- 0.61 (-0.69, 0.53)"
   ]
  }
 ],
 "metadata": {
  "kernelspec": {
   "display_name": "Python 3",
   "language": "python",
   "name": "python3"
  },
  "language_info": {
   "codemirror_mode": {
    "name": "ipython",
    "version": 3
   },
   "file_extension": ".py",
   "mimetype": "text/x-python",
   "name": "python",
   "nbconvert_exporter": "python",
   "pygments_lexer": "ipython3",
   "version": "3.8.3"
  }
 },
 "nbformat": 4,
 "nbformat_minor": 4
}
